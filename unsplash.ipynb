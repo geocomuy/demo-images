{
 "cells": [
  {
   "cell_type": "code",
   "execution_count": 28,
   "metadata": {},
   "outputs": [],
   "source": [
    "import os\n",
    "import requests\n",
    "from tqdm import tqdm\n",
    "from time import sleep"
   ]
  },
  {
   "cell_type": "code",
   "execution_count": 29,
   "metadata": {},
   "outputs": [],
   "source": [
    "headers = {\n",
    "  'User-Agent': 'Mozilla/5.0 (Windows NT 6.3) AppleWebKit/537.36 (KHTML, like Gecko) Chrome/98.0.4758.102 Safari/537.36',\n",
    "}"
   ]
  },
  {
   "cell_type": "code",
   "execution_count": 30,
   "metadata": {},
   "outputs": [],
   "source": [
    "query = input('Enter your keyword here: ')\n",
    "endpage = int(input('How many pages do you want to scrape'))"
   ]
  },
  {
   "cell_type": "code",
   "execution_count": 31,
   "metadata": {},
   "outputs": [],
   "source": [
    "cur_dir = os.getcwd()\n",
    "output = cur_dir + f'/promotions/{query}'\n",
    "\n",
    "if not os.path.exists(output):\n",
    "  os.mkdir(output)"
   ]
  },
  {
   "cell_type": "code",
   "execution_count": 32,
   "metadata": {},
   "outputs": [
    {
     "data": {
      "text/plain": [
       "['https://unsplash.com/napi/search/photos?query=salud&per_page=20&page=0&xp']"
      ]
     },
     "execution_count": 32,
     "metadata": {},
     "output_type": "execute_result"
    }
   ],
   "source": [
    "api_url = ['https://unsplash.com/napi/search/photos?query={}&per_page=20&page={}&xp'.format(query, x) for x in range(0, endpage)]\n",
    "\n",
    "api_url"
   ]
  },
  {
   "cell_type": "code",
   "execution_count": 33,
   "metadata": {},
   "outputs": [
    {
     "name": "stderr",
     "output_type": "stream",
     "text": [
      "100%|██████████| 20/20 [00:21<00:00,  1.09s/it]\n",
      "100%|██████████| 1/1 [00:23<00:00, 23.37s/it]\n"
     ]
    }
   ],
   "source": [
    "for url in tqdm(api_url):\n",
    "  r = requests.get(url, headers=headers)\n",
    "  json_data = r.json()\n",
    "  for image in tqdm(json_data['results']):\n",
    "    image_id = image['id']\n",
    "    image_url = image['urls']['thumb']\n",
    "\n",
    "    try:\n",
    "      with open(output + f'/{image_id}.jpg', 'wb') as file:\n",
    "        r = requests.get(image_url, stream=True)\n",
    "        file.write(r.content)\n",
    "    except:\n",
    "      pass\n",
    "  sleep(1)"
   ]
  },
  {
   "cell_type": "code",
   "execution_count": null,
   "metadata": {},
   "outputs": [],
   "source": []
  }
 ],
 "metadata": {
  "kernelspec": {
   "display_name": "base",
   "language": "python",
   "name": "python3"
  },
  "language_info": {
   "codemirror_mode": {
    "name": "ipython",
    "version": 3
   },
   "file_extension": ".py",
   "mimetype": "text/x-python",
   "name": "python",
   "nbconvert_exporter": "python",
   "pygments_lexer": "ipython3",
   "version": "3.10.9"
  },
  "orig_nbformat": 4
 },
 "nbformat": 4,
 "nbformat_minor": 2
}
