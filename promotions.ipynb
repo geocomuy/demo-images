{
 "cells": [
  {
   "cell_type": "code",
   "execution_count": 1,
   "metadata": {},
   "outputs": [],
   "source": [
    "from os import walk\n",
    "import json"
   ]
  },
  {
   "cell_type": "code",
   "execution_count": 2,
   "metadata": {},
   "outputs": [],
   "source": [
    "farmacias = next(walk('./promotions/farmacias'), (None, None, []))[2]\n",
    "medicamentos = next(walk('./promotions/medicamentos'), (None, None, []))[2]\n",
    "salud = next(walk('./promotions/salud'), (None, None, []))[2]"
   ]
  },
  {
   "cell_type": "code",
   "execution_count": 3,
   "metadata": {},
   "outputs": [],
   "source": [
    "promotions_json = [\n",
    "    {'name': image, 'url': f'https://geocomuy.github.io/banner-images/promotions/farmacias/{image}'} for image in farmacias\n",
    "]\n",
    "promotions_json += [\n",
    "    {'name': image, 'url': f'https://geocomuy.github.io/banner-images/promotions/medicamentos/{image}'} for image in medicamentos\n",
    "]\n",
    "\n",
    "promotions_json += [\n",
    "    {'name': image, 'url': f'https://geocomuy.github.io/banner-images/promotions/salud/{image}'} for image in salud\n",
    "]"
   ]
  },
  {
   "cell_type": "code",
   "execution_count": 4,
   "metadata": {},
   "outputs": [],
   "source": [
    "with open('promotions.json', 'w') as file:\n",
    "    file.write(json.dumps(promotions_json))"
   ]
  },
  {
   "cell_type": "code",
   "execution_count": null,
   "metadata": {},
   "outputs": [],
   "source": []
  }
 ],
 "metadata": {
  "kernelspec": {
   "display_name": "base",
   "language": "python",
   "name": "python3"
  },
  "language_info": {
   "codemirror_mode": {
    "name": "ipython",
    "version": 3
   },
   "file_extension": ".py",
   "mimetype": "text/x-python",
   "name": "python",
   "nbconvert_exporter": "python",
   "pygments_lexer": "ipython3",
   "version": "3.10.9"
  },
  "orig_nbformat": 4
 },
 "nbformat": 4,
 "nbformat_minor": 2
}
