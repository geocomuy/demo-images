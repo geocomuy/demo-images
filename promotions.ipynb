{
 "cells": [
  {
   "cell_type": "code",
   "execution_count": 2,
   "metadata": {},
   "outputs": [],
   "source": [
    "from os import walk\n",
    "import json"
   ]
  },
  {
   "cell_type": "code",
   "execution_count": 3,
   "metadata": {},
   "outputs": [
    {
     "data": {
      "text/plain": [
       "['NdZ7EpT7TSA.jpg',\n",
       " 'nIc0dUveEOk.jpg',\n",
       " 'uh0q_b-Run4.jpg',\n",
       " '9SlG3xe1Ka8.jpg',\n",
       " 'Qk1KB124w6A.jpg',\n",
       " '0Odu-WZd7sc.jpg',\n",
       " 'opAPz6YqDI8.jpg',\n",
       " 'RyRaCsfqaRk.jpg',\n",
       " 'QGAt0MUwdjg.jpg',\n",
       " 'hQFlvuVSpHo.jpg',\n",
       " 't-tokDs2Rjg.jpg',\n",
       " 'ZUu5rsRgbQ4.jpg',\n",
       " 'Fmkj7qZ1JgI.jpg',\n",
       " 'NELuniToBt4.jpg',\n",
       " 'ftWQP8MNG4g.jpg',\n",
       " 'JtYhmT-Zv10.jpg',\n",
       " 'eJPpfjebu_w.jpg',\n",
       " 'Ws8fz7WZaYo.jpg',\n",
       " 'fZOGyt9j0mg.jpg',\n",
       " 'bMCJ570S02Y.jpg']"
      ]
     },
     "execution_count": 3,
     "metadata": {},
     "output_type": "execute_result"
    }
   ],
   "source": [
    "farmacias = next(walk('./promotions/farmacias'), (None, None, []))[2]  # [] if no file\n",
    "\n",
    "farmacias"
   ]
  },
  {
   "cell_type": "code",
   "execution_count": 4,
   "metadata": {},
   "outputs": [
    {
     "data": {
      "text/plain": [
       "['rRBtKW_aw_U.jpg',\n",
       " 'NdZ7EpT7TSA.jpg',\n",
       " '-eFPTYvfMxY.jpg',\n",
       " '7xs6ugHUQ_w.jpg',\n",
       " '4qjxCUOc3iQ.jpg',\n",
       " 'YT6COuf1gY0.jpg',\n",
       " 'iPl3q-gEGzY.jpg',\n",
       " 'IMe6fLWEu6E.jpg',\n",
       " 'NNpo-liY5aU.jpg',\n",
       " 'KltoLK6Mk-g.jpg',\n",
       " 'QtFbQ2enRGI.jpg',\n",
       " '8yF6aQ3NL7w.jpg',\n",
       " 'DK8jXx1B-1c.jpg',\n",
       " '1TL8AoEDj_c.jpg',\n",
       " 'trz15aaL9cE.jpg',\n",
       " '2Y8ol_OBS1I.jpg',\n",
       " 'm1Hq4ibP9rc.jpg',\n",
       " 'gGIxh0iBx2I.jpg',\n",
       " 'Y14ONzYtxb4.jpg',\n",
       " '_jbClosDsD4.jpg']"
      ]
     },
     "execution_count": 4,
     "metadata": {},
     "output_type": "execute_result"
    }
   ],
   "source": [
    "medicamentos = next(walk('./promotions/medicamentos'), (None, None, []))[2]  # [] if no file\n",
    "\n",
    "medicamentos"
   ]
  },
  {
   "cell_type": "code",
   "execution_count": 5,
   "metadata": {},
   "outputs": [
    {
     "data": {
      "text/plain": [
       "[{'name': 'NdZ7EpT7TSA.jpg',\n",
       "  'url': 'https://geocomuy.github.io/banner-images/promotions/farmacias/NdZ7EpT7TSA.jpg'},\n",
       " {'name': 'nIc0dUveEOk.jpg',\n",
       "  'url': 'https://geocomuy.github.io/banner-images/promotions/farmacias/nIc0dUveEOk.jpg'},\n",
       " {'name': 'uh0q_b-Run4.jpg',\n",
       "  'url': 'https://geocomuy.github.io/banner-images/promotions/farmacias/uh0q_b-Run4.jpg'},\n",
       " {'name': '9SlG3xe1Ka8.jpg',\n",
       "  'url': 'https://geocomuy.github.io/banner-images/promotions/farmacias/9SlG3xe1Ka8.jpg'},\n",
       " {'name': 'Qk1KB124w6A.jpg',\n",
       "  'url': 'https://geocomuy.github.io/banner-images/promotions/farmacias/Qk1KB124w6A.jpg'},\n",
       " {'name': '0Odu-WZd7sc.jpg',\n",
       "  'url': 'https://geocomuy.github.io/banner-images/promotions/farmacias/0Odu-WZd7sc.jpg'},\n",
       " {'name': 'opAPz6YqDI8.jpg',\n",
       "  'url': 'https://geocomuy.github.io/banner-images/promotions/farmacias/opAPz6YqDI8.jpg'},\n",
       " {'name': 'RyRaCsfqaRk.jpg',\n",
       "  'url': 'https://geocomuy.github.io/banner-images/promotions/farmacias/RyRaCsfqaRk.jpg'},\n",
       " {'name': 'QGAt0MUwdjg.jpg',\n",
       "  'url': 'https://geocomuy.github.io/banner-images/promotions/farmacias/QGAt0MUwdjg.jpg'},\n",
       " {'name': 'hQFlvuVSpHo.jpg',\n",
       "  'url': 'https://geocomuy.github.io/banner-images/promotions/farmacias/hQFlvuVSpHo.jpg'},\n",
       " {'name': 't-tokDs2Rjg.jpg',\n",
       "  'url': 'https://geocomuy.github.io/banner-images/promotions/farmacias/t-tokDs2Rjg.jpg'},\n",
       " {'name': 'ZUu5rsRgbQ4.jpg',\n",
       "  'url': 'https://geocomuy.github.io/banner-images/promotions/farmacias/ZUu5rsRgbQ4.jpg'},\n",
       " {'name': 'Fmkj7qZ1JgI.jpg',\n",
       "  'url': 'https://geocomuy.github.io/banner-images/promotions/farmacias/Fmkj7qZ1JgI.jpg'},\n",
       " {'name': 'NELuniToBt4.jpg',\n",
       "  'url': 'https://geocomuy.github.io/banner-images/promotions/farmacias/NELuniToBt4.jpg'},\n",
       " {'name': 'ftWQP8MNG4g.jpg',\n",
       "  'url': 'https://geocomuy.github.io/banner-images/promotions/farmacias/ftWQP8MNG4g.jpg'},\n",
       " {'name': 'JtYhmT-Zv10.jpg',\n",
       "  'url': 'https://geocomuy.github.io/banner-images/promotions/farmacias/JtYhmT-Zv10.jpg'},\n",
       " {'name': 'eJPpfjebu_w.jpg',\n",
       "  'url': 'https://geocomuy.github.io/banner-images/promotions/farmacias/eJPpfjebu_w.jpg'},\n",
       " {'name': 'Ws8fz7WZaYo.jpg',\n",
       "  'url': 'https://geocomuy.github.io/banner-images/promotions/farmacias/Ws8fz7WZaYo.jpg'},\n",
       " {'name': 'fZOGyt9j0mg.jpg',\n",
       "  'url': 'https://geocomuy.github.io/banner-images/promotions/farmacias/fZOGyt9j0mg.jpg'},\n",
       " {'name': 'bMCJ570S02Y.jpg',\n",
       "  'url': 'https://geocomuy.github.io/banner-images/promotions/farmacias/bMCJ570S02Y.jpg'},\n",
       " {'name': 'rRBtKW_aw_U.jpg',\n",
       "  'url': 'https://geocomuy.github.io/banner-images/promotions/medicamentos/rRBtKW_aw_U.jpg'},\n",
       " {'name': 'NdZ7EpT7TSA.jpg',\n",
       "  'url': 'https://geocomuy.github.io/banner-images/promotions/medicamentos/NdZ7EpT7TSA.jpg'},\n",
       " {'name': '-eFPTYvfMxY.jpg',\n",
       "  'url': 'https://geocomuy.github.io/banner-images/promotions/medicamentos/-eFPTYvfMxY.jpg'},\n",
       " {'name': '7xs6ugHUQ_w.jpg',\n",
       "  'url': 'https://geocomuy.github.io/banner-images/promotions/medicamentos/7xs6ugHUQ_w.jpg'},\n",
       " {'name': '4qjxCUOc3iQ.jpg',\n",
       "  'url': 'https://geocomuy.github.io/banner-images/promotions/medicamentos/4qjxCUOc3iQ.jpg'},\n",
       " {'name': 'YT6COuf1gY0.jpg',\n",
       "  'url': 'https://geocomuy.github.io/banner-images/promotions/medicamentos/YT6COuf1gY0.jpg'},\n",
       " {'name': 'iPl3q-gEGzY.jpg',\n",
       "  'url': 'https://geocomuy.github.io/banner-images/promotions/medicamentos/iPl3q-gEGzY.jpg'},\n",
       " {'name': 'IMe6fLWEu6E.jpg',\n",
       "  'url': 'https://geocomuy.github.io/banner-images/promotions/medicamentos/IMe6fLWEu6E.jpg'},\n",
       " {'name': 'NNpo-liY5aU.jpg',\n",
       "  'url': 'https://geocomuy.github.io/banner-images/promotions/medicamentos/NNpo-liY5aU.jpg'},\n",
       " {'name': 'KltoLK6Mk-g.jpg',\n",
       "  'url': 'https://geocomuy.github.io/banner-images/promotions/medicamentos/KltoLK6Mk-g.jpg'},\n",
       " {'name': 'QtFbQ2enRGI.jpg',\n",
       "  'url': 'https://geocomuy.github.io/banner-images/promotions/medicamentos/QtFbQ2enRGI.jpg'},\n",
       " {'name': '8yF6aQ3NL7w.jpg',\n",
       "  'url': 'https://geocomuy.github.io/banner-images/promotions/medicamentos/8yF6aQ3NL7w.jpg'},\n",
       " {'name': 'DK8jXx1B-1c.jpg',\n",
       "  'url': 'https://geocomuy.github.io/banner-images/promotions/medicamentos/DK8jXx1B-1c.jpg'},\n",
       " {'name': '1TL8AoEDj_c.jpg',\n",
       "  'url': 'https://geocomuy.github.io/banner-images/promotions/medicamentos/1TL8AoEDj_c.jpg'},\n",
       " {'name': 'trz15aaL9cE.jpg',\n",
       "  'url': 'https://geocomuy.github.io/banner-images/promotions/medicamentos/trz15aaL9cE.jpg'},\n",
       " {'name': '2Y8ol_OBS1I.jpg',\n",
       "  'url': 'https://geocomuy.github.io/banner-images/promotions/medicamentos/2Y8ol_OBS1I.jpg'},\n",
       " {'name': 'm1Hq4ibP9rc.jpg',\n",
       "  'url': 'https://geocomuy.github.io/banner-images/promotions/medicamentos/m1Hq4ibP9rc.jpg'},\n",
       " {'name': 'gGIxh0iBx2I.jpg',\n",
       "  'url': 'https://geocomuy.github.io/banner-images/promotions/medicamentos/gGIxh0iBx2I.jpg'},\n",
       " {'name': 'Y14ONzYtxb4.jpg',\n",
       "  'url': 'https://geocomuy.github.io/banner-images/promotions/medicamentos/Y14ONzYtxb4.jpg'},\n",
       " {'name': '_jbClosDsD4.jpg',\n",
       "  'url': 'https://geocomuy.github.io/banner-images/promotions/medicamentos/_jbClosDsD4.jpg'}]"
      ]
     },
     "execution_count": 5,
     "metadata": {},
     "output_type": "execute_result"
    }
   ],
   "source": [
    "promotions_json = [\n",
    "    {'name': image, 'url': f'https://geocomuy.github.io/banner-images/promotions/farmacias/{image}'} for image in farmacias\n",
    "]\n",
    "promotions_json += [\n",
    "    {'name': image, 'url': f'https://geocomuy.github.io/banner-images/promotions/medicamentos/{image}'} for image in medicamentos\n",
    "]\n",
    " \n",
    "\n",
    "promotions_json"
   ]
  },
  {
   "cell_type": "code",
   "execution_count": 19,
   "metadata": {},
   "outputs": [],
   "source": [
    "with open('promotions.json', 'w') as file:\n",
    "    file.write(json.dumps(promotions_json))"
   ]
  },
  {
   "cell_type": "code",
   "execution_count": null,
   "metadata": {},
   "outputs": [],
   "source": []
  }
 ],
 "metadata": {
  "kernelspec": {
   "display_name": "base",
   "language": "python",
   "name": "python3"
  },
  "language_info": {
   "codemirror_mode": {
    "name": "ipython",
    "version": 3
   },
   "file_extension": ".py",
   "mimetype": "text/x-python",
   "name": "python",
   "nbconvert_exporter": "python",
   "pygments_lexer": "ipython3",
   "version": "3.10.9"
  },
  "orig_nbformat": 4
 },
 "nbformat": 4,
 "nbformat_minor": 2
}
